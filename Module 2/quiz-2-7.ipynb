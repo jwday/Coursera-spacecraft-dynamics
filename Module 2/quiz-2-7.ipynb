{
 "cells": [
  {
   "cell_type": "code",
   "execution_count": 2,
   "metadata": {},
   "outputs": [],
   "source": [
    "import sympy as sm\n",
    "import numpy as np\n",
    "from sympy.physics.vector import *"
   ]
  },
  {
   "cell_type": "markdown",
   "metadata": {},
   "source": [
    "#### Question 1:\n",
    "Given the (3-2-1) Euler angle set with $\\theta_1 = 20^{\\circ}, \\theta_2 = 10^{\\circ}, \\theta_3 = -10^{\\circ}$, what is the equivalent (3-1-3) set?"
   ]
  },
  {
   "cell_type": "code",
   "execution_count": 27,
   "metadata": {},
   "outputs": [
    {
     "data": {
      "text/plain": [
       "'BN (3-1-3):'"
      ]
     },
     "metadata": {},
     "output_type": "display_data"
    },
    {
     "data": {
      "text/latex": [
       "$\\displaystyle \\left[\\begin{matrix}- \\sin{\\left(\\Omega \\right)} \\sin{\\left(\\omega \\right)} \\cos{\\left(i \\right)} + \\cos{\\left(\\Omega \\right)} \\cos{\\left(\\omega \\right)} & \\sin{\\left(\\Omega \\right)} \\cos{\\left(\\omega \\right)} + \\sin{\\left(\\omega \\right)} \\cos{\\left(\\Omega \\right)} \\cos{\\left(i \\right)} & \\sin{\\left(i \\right)} \\sin{\\left(\\omega \\right)}\\\\- \\sin{\\left(\\Omega \\right)} \\cos{\\left(i \\right)} \\cos{\\left(\\omega \\right)} - \\sin{\\left(\\omega \\right)} \\cos{\\left(\\Omega \\right)} & - \\sin{\\left(\\Omega \\right)} \\sin{\\left(\\omega \\right)} + \\cos{\\left(\\Omega \\right)} \\cos{\\left(i \\right)} \\cos{\\left(\\omega \\right)} & \\sin{\\left(i \\right)} \\cos{\\left(\\omega \\right)}\\\\\\sin{\\left(\\Omega \\right)} \\sin{\\left(i \\right)} & - \\sin{\\left(i \\right)} \\cos{\\left(\\Omega \\right)} & \\cos{\\left(i \\right)}\\end{matrix}\\right]$"
      ],
      "text/plain": [
       "Matrix([\n",
       "[-sin(Omega)*sin(omega)*cos(i) + cos(Omega)*cos(omega),  sin(Omega)*cos(omega) + sin(omega)*cos(Omega)*cos(i), sin(i)*sin(omega)],\n",
       "[-sin(Omega)*cos(i)*cos(omega) - sin(omega)*cos(Omega), -sin(Omega)*sin(omega) + cos(Omega)*cos(i)*cos(omega), sin(i)*cos(omega)],\n",
       "[                                    sin(Omega)*sin(i),                                    -sin(i)*cos(Omega),            cos(i)]])"
      ]
     },
     "metadata": {},
     "output_type": "display_data"
    },
    {
     "name": "stdout",
     "output_type": "stream",
     "text": [
      "Om, i, w (3-1-3): {Omega: -0.428678196229961, i: 0.246196916778932, omega: 0.793052280166070}\n"
     ]
    },
    {
     "data": {
      "text/plain": [
       "'C:'"
      ]
     },
     "metadata": {},
     "output_type": "display_data"
    },
    {
     "data": {
      "text/latex": [
       "$\\displaystyle \\left[\\begin{matrix}0.925416578398323 & 0.336824088833465 & -0.17364817766693\\\\-0.365159288446675 & 0.915103409157124 & -0.171010071662834\\\\0.10130572780775 & 0.22166480038679 & 0.969846310392954\\end{matrix}\\right]$"
      ],
      "text/plain": [
       "Matrix([\n",
       "[ 0.925416578398323, 0.336824088833465,  -0.17364817766693],\n",
       "[-0.365159288446675, 0.915103409157124, -0.171010071662834],\n",
       "[  0.10130572780775,  0.22166480038679,  0.969846310392954]])"
      ]
     },
     "metadata": {},
     "output_type": "display_data"
    },
    {
     "data": {
      "text/plain": [
       "'Cp:'"
      ]
     },
     "metadata": {},
     "output_type": "display_data"
    },
    {
     "data": {
      "text/latex": [
       "$\\displaystyle \\left[\\begin{matrix}0.925416578398323 & 0.336824088833465 & 0.173648177666931\\\\-0.365159288446675 & 0.915103409157124 & 0.171010071662835\\\\-0.10130572780775 & -0.221664800386791 & 0.969846310392954\\end{matrix}\\right]$"
      ],
      "text/plain": [
       "Matrix([\n",
       "[ 0.925416578398323,  0.336824088833465, 0.173648177666931],\n",
       "[-0.365159288446675,  0.915103409157124, 0.171010071662835],\n",
       "[ -0.10130572780775, -0.221664800386791, 0.969846310392954]])"
      ]
     },
     "metadata": {},
     "output_type": "display_data"
    },
    {
     "data": {
      "text/latex": [
       "$\\displaystyle \\left[\\begin{matrix}1.07812022306446\\\\0.95201731487907\\\\3.45417425976019\\end{matrix}\\right]$"
      ],
      "text/plain": [
       "Matrix([\n",
       "[1.07812022306446],\n",
       "[0.95201731487907],\n",
       "[3.45417425976019]])"
      ]
     },
     "metadata": {},
     "output_type": "display_data"
    },
    {
     "data": {
      "text/latex": [
       "$\\displaystyle \\left[\\begin{matrix}2.12000928906605\\\\1.97807774485608\\\\2.36490360259753\\end{matrix}\\right]$"
      ],
      "text/plain": [
       "Matrix([\n",
       "[2.12000928906605],\n",
       "[1.97807774485608],\n",
       "[2.36490360259753]])"
      ]
     },
     "metadata": {},
     "output_type": "display_data"
    }
   ],
   "source": [
    "t1, t2, t3 = sm.symbols('theta_1, theta_2, theta_3')   # Rotation angles for (3-2-1) set\n",
    "om, i, w = sm.symbols('Omega, i, omega')       # Rotation angles for (3-1-3) set\n",
    "\n",
    "N = ReferenceFrame('N')\n",
    "B = ReferenceFrame('B')\n",
    "Bp = ReferenceFrame('Bp')   # 'Dummy' B frame used to examine 3-1-3 DMC and extract inverse transformation formulas\n",
    "\n",
    "B.orient_body_fixed(N, (t1, t2, t3), '321')\n",
    "Bp.orient_body_fixed(N, (om, i, w), '313')\n",
    "\n",
    "C = B.dcm(N)\n",
    "Cp = Bp.dcm(N)\n",
    "display('BN (3-1-3):', Cp)\n",
    "\n",
    "# Inverse transform formulas for a (3-1-3) rotation, derived via inspection of Cp\n",
    "tom = sm.atan(C[2,0]/-C[2,1])\n",
    "ti = sm.acos(C[2,2])\n",
    "tw = sm.atan(C[0,2]/C[1,2])\n",
    "\n",
    "vals321 = {t1: np.radians(20),\n",
    "           t2: np.radians(10),\n",
    "           t3: np.radians(-10)}\n",
    "\n",
    "vals313 = {om: tom.subs(vals321),\n",
    "            i: ti.subs(vals321),\n",
    "            w: tw.subs(vals321)}\n",
    "\n",
    "print('Om, i, w (3-1-3): {}'.format(vals313))\n",
    "display('C:', C.subs(vals321))\n",
    "display('Cp:', Cp.subs(vals313))\n",
    "display(C.subs(vals321)*np.array([[1],[2],[3]]))\n",
    "display(Cp.subs(vals313)*np.array([[1],[2],[3]]))\n",
    "\n",
    "# Clear cache for next problem\n",
    "N = None\n",
    "B = None\n",
    "del t1, t2, t3, om, i, w, Bp, C, Cp, tom, ti, tw, vals321, vals313"
   ]
  },
  {
   "attachments": {
    "8GHuFuk_EeafRBIyl6pTvg_547d8908f7c65af081ef7e4b1f97727f_6.1.Euler.DCM.Relation.Q3.a.Fig1.png": {
     "image/png": "[encoded data removed]"
    }
   },
   "cell_type": "markdown",
   "metadata": {},
   "source": [
    "#### Question 2 (CORRECT):\n",
    "\n",
    "The reference frames $\\mathscr{N}$:{$\\hat{\\bf{n}}_1$, $\\hat{\\bf{n}}_2$, $\\hat{\\bf{n}}_2$} and $\\mathscr{B}$:{$\\hat{\\bf{b}}_L$, $\\hat{\\bf{b}}_{\\theta}$, $\\hat{\\bf{b}}_r$} are shown in the Figure. The disk is rolling on the ring without slip.  \n",
    "Find the direction cosine matrix [BN] in terms of the angle ϕ.\n",
    "\n",
    "!![8GHuFuk_EeafRBIyl6pTvg_547d8908f7c65af081ef7e4b1f97727f_6.1.Euler.DCM.Relation.Q3.a.Fig1.png](attachment:8GHuFuk_EeafRBIyl6pTvg_547d8908f7c65af081ef7e4b1f97727f_6.1.Euler.DCM.Relation.Q3.a.Fig1.png)"
   ]
  },
  {
   "cell_type": "code",
   "execution_count": 166,
   "metadata": {},
   "outputs": [
    {
     "data": {
      "text/latex": [
       "$\\displaystyle \\left[\\begin{matrix}\\cos{\\left(\\phi \\right)} & \\sin{\\left(\\phi \\right)} & 0\\\\- \\sin{\\left(\\phi \\right)} \\cos{\\left(\\frac{L \\phi}{r} \\right)} & \\cos{\\left(\\phi \\right)} \\cos{\\left(\\frac{L \\phi}{r} \\right)} & - \\sin{\\left(\\frac{L \\phi}{r} \\right)}\\\\- \\sin{\\left(\\phi \\right)} \\sin{\\left(\\frac{L \\phi}{r} \\right)} & \\sin{\\left(\\frac{L \\phi}{r} \\right)} \\cos{\\left(\\phi \\right)} & \\cos{\\left(\\frac{L \\phi}{r} \\right)}\\end{matrix}\\right]$"
      ],
      "text/plain": [
       "Matrix([\n",
       "[              cos(phi),              sin(phi),             0],\n",
       "[-sin(phi)*cos(L*phi/r), cos(phi)*cos(L*phi/r), -sin(L*phi/r)],\n",
       "[-sin(phi)*sin(L*phi/r), sin(L*phi/r)*cos(phi),  cos(L*phi/r)]])"
      ]
     },
     "execution_count": 166,
     "metadata": {},
     "output_type": "execute_result"
    }
   ],
   "source": [
    "phi, th = sm.symbols('phi, theta')   # Rotation angles\n",
    "L, r = sm.symbols('L, r')               # Physical properties\n",
    "\n",
    "N = ReferenceFrame('N')\n",
    "B = ReferenceFrame('B', indices=('L','theta','r'))\n",
    "\n",
    "B.orient_body_fixed(N, (phi, -th, 0), '313')\n",
    "\n",
    "BN = B.dcm(N)\n",
    "vals = {th: phi*L/r}\n",
    "\n",
    "BN.subs(vals)"
   ]
  },
  {
   "cell_type": "markdown",
   "metadata": {},
   "source": [
    "#### Question 3 (CORRECT):\n",
    "\n",
    "The reference frames $\\mathscr{N}$:{$\\hat{\\bf{n}}_1$, $\\hat{\\bf{n}}_2$, $\\hat{\\bf{n}}_2$} and $\\mathscr{B}$:{$\\hat{\\bf{b}}_L$, $\\hat{\\bf{b}}_{\\theta}$, $\\hat{\\bf{b}}_r$} are shown in the Figure. The disk is rolling on the ring without slip.  \n",
    "Given the vector $^\\mathscr{B}\\bf{v} = 1 \\hat{\\bf{b}}_r + 1 \\hat{\\bf{b}}_{\\theta} + 2 \\hat{\\bf{b}}_L$, find the vector $^\\mathscr{N}\\bf{v}$."
   ]
  },
  {
   "cell_type": "code",
   "execution_count": 167,
   "metadata": {},
   "outputs": [
    {
     "data": {
      "text/latex": [
       "$\\displaystyle \\left[\\begin{matrix}- \\sin{\\left(\\phi \\right)} \\sin{\\left(\\frac{L \\phi}{r} \\right)} - \\sin{\\left(\\phi \\right)} \\cos{\\left(\\frac{L \\phi}{r} \\right)} + 2 \\cos{\\left(\\phi \\right)}\\\\2 \\sin{\\left(\\phi \\right)} + \\sin{\\left(\\frac{L \\phi}{r} \\right)} \\cos{\\left(\\phi \\right)} + \\cos{\\left(\\phi \\right)} \\cos{\\left(\\frac{L \\phi}{r} \\right)}\\\\- \\sin{\\left(\\frac{L \\phi}{r} \\right)} + \\cos{\\left(\\frac{L \\phi}{r} \\right)}\\end{matrix}\\right]$"
      ],
      "text/plain": [
       "Matrix([\n",
       "[-sin(phi)*sin(L*phi/r) - sin(phi)*cos(L*phi/r) + 2*cos(phi)],\n",
       "[ 2*sin(phi) + sin(L*phi/r)*cos(phi) + cos(phi)*cos(L*phi/r)],\n",
       "[                               -sin(L*phi/r) + cos(L*phi/r)]])"
      ]
     },
     "execution_count": 167,
     "metadata": {},
     "output_type": "execute_result"
    }
   ],
   "source": [
    "V = 2*B.x + B.y + B.z\n",
    "sm.Matrix([V.express(N).dot(N.x), V.express(N).dot(N.y), V.express(N).dot(N.z)]).subs(vals)"
   ]
  },
  {
   "cell_type": "code",
   "execution_count": 168,
   "metadata": {},
   "outputs": [
    {
     "data": {
      "text/latex": [
       "$\\displaystyle \\left[\\begin{matrix}- \\sin{\\left(\\phi \\right)} \\sin{\\left(\\frac{L \\phi}{r} \\right)} - \\sin{\\left(\\phi \\right)} \\cos{\\left(\\frac{L \\phi}{r} \\right)} + 2 \\cos{\\left(\\phi \\right)}\\\\2 \\sin{\\left(\\phi \\right)} + \\sin{\\left(\\frac{L \\phi}{r} \\right)} \\cos{\\left(\\phi \\right)} + \\cos{\\left(\\phi \\right)} \\cos{\\left(\\frac{L \\phi}{r} \\right)}\\\\- \\sin{\\left(\\frac{L \\phi}{r} \\right)} + \\cos{\\left(\\frac{L \\phi}{r} \\right)}\\end{matrix}\\right]$"
      ],
      "text/plain": [
       "Matrix([\n",
       "[-sin(phi)*sin(L*phi/r) - sin(phi)*cos(L*phi/r) + 2*cos(phi)],\n",
       "[ 2*sin(phi) + sin(L*phi/r)*cos(phi) + cos(phi)*cos(L*phi/r)],\n",
       "[                               -sin(L*phi/r) + cos(L*phi/r)]])"
      ]
     },
     "execution_count": 168,
     "metadata": {},
     "output_type": "execute_result"
    }
   ],
   "source": [
    "BN.subs(vals).transpose()*sm.Matrix([V.dot(B.x), V.dot(B.y), V.dot(B.z)])"
   ]
  },
  {
   "cell_type": "markdown",
   "metadata": {},
   "source": [
    "#### Question 4 (CORRECT):\n",
    "\n",
    "Consider the set of (2-3-2) Euler angles.  \n",
    "Find the mapping of these angles $(\\theta_1, \\theta_2, \\theta_3)$ to the corresponding ${[C]}$ DCM"
   ]
  },
  {
   "cell_type": "code",
   "execution_count": 169,
   "metadata": {},
   "outputs": [
    {
     "data": {
      "text/latex": [
       "$\\displaystyle \\left[\\begin{matrix}- \\sin{\\left(\\theta_{1} \\right)} \\sin{\\left(\\theta_{3} \\right)} + \\cos{\\left(\\theta_{1} \\right)} \\cos{\\left(\\theta_{2} \\right)} \\cos{\\left(\\theta_{3} \\right)} & \\sin{\\left(\\theta_{2} \\right)} \\cos{\\left(\\theta_{3} \\right)} & - \\sin{\\left(\\theta_{1} \\right)} \\cos{\\left(\\theta_{2} \\right)} \\cos{\\left(\\theta_{3} \\right)} - \\sin{\\left(\\theta_{3} \\right)} \\cos{\\left(\\theta_{1} \\right)}\\\\- \\sin{\\left(\\theta_{2} \\right)} \\cos{\\left(\\theta_{1} \\right)} & \\cos{\\left(\\theta_{2} \\right)} & \\sin{\\left(\\theta_{1} \\right)} \\sin{\\left(\\theta_{2} \\right)}\\\\\\sin{\\left(\\theta_{1} \\right)} \\cos{\\left(\\theta_{3} \\right)} + \\sin{\\left(\\theta_{3} \\right)} \\cos{\\left(\\theta_{1} \\right)} \\cos{\\left(\\theta_{2} \\right)} & \\sin{\\left(\\theta_{2} \\right)} \\sin{\\left(\\theta_{3} \\right)} & - \\sin{\\left(\\theta_{1} \\right)} \\sin{\\left(\\theta_{3} \\right)} \\cos{\\left(\\theta_{2} \\right)} + \\cos{\\left(\\theta_{1} \\right)} \\cos{\\left(\\theta_{3} \\right)}\\end{matrix}\\right]$"
      ],
      "text/plain": [
       "Matrix([\n",
       "[-sin(theta_1)*sin(theta_3) + cos(theta_1)*cos(theta_2)*cos(theta_3), sin(theta_2)*cos(theta_3), -sin(theta_1)*cos(theta_2)*cos(theta_3) - sin(theta_3)*cos(theta_1)],\n",
       "[                                         -sin(theta_2)*cos(theta_1),              cos(theta_2),                                           sin(theta_1)*sin(theta_2)],\n",
       "[ sin(theta_1)*cos(theta_3) + sin(theta_3)*cos(theta_1)*cos(theta_2), sin(theta_2)*sin(theta_3), -sin(theta_1)*sin(theta_3)*cos(theta_2) + cos(theta_1)*cos(theta_3)]])"
      ]
     },
     "execution_count": 169,
     "metadata": {},
     "output_type": "execute_result"
    }
   ],
   "source": [
    "th1, th2, th3 = sm.symbols('theta_1, theta_2, theta_3')   # Rotation angles\n",
    "Bp = ReferenceFrame('Bp')\n",
    "Bp.orient_body_fixed(N, (th1, th2, th3), 'YZY')\n",
    "\n",
    "Bp.dcm(N)"
   ]
  },
  {
   "cell_type": "markdown",
   "metadata": {},
   "source": [
    "#### Question 5 (CORRECT):\n",
    "\n",
    "Consider the set of (2-3-2) Euler angles.  \n",
    "Find appropriate inverse transformations from ${[C]}$ back to the (2-3-2) Euler angles."
   ]
  },
  {
   "cell_type": "markdown",
   "metadata": {},
   "source": [
    "$\\theta_1 = tan^{-1}(\\frac{C_{23}}{-C_{21}})$  \n",
    "$\\theta_2 = cos^{-1}(C_{22})$  \n",
    "$\\theta_3 = tan^{-1}(\\frac{C_{32}}{C_{12}})$  "
   ]
  }
 ],
 "metadata": {
  "kernelspec": {
   "display_name": "base",
   "language": "python",
   "name": "python3"
  },
  "language_info": {
   "codemirror_mode": {
    "name": "ipython",
    "version": 3
   },
   "file_extension": ".py",
   "mimetype": "text/x-python",
   "name": "python",
   "nbconvert_exporter": "python",
   "pygments_lexer": "ipython3",
   "version": "3.11.9"
  }
 },
 "nbformat": 4,
 "nbformat_minor": 2
}
