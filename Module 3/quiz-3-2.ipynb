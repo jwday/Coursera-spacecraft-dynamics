{
 "cells": [
  {
   "cell_type": "code",
   "execution_count": 1,
   "metadata": {},
   "outputs": [],
   "source": [
    "import sys\n",
    "sys.path.append('..')\n",
    "import functions as fn\n",
    "import numpy as np"
   ]
  },
  {
   "cell_type": "markdown",
   "metadata": {},
   "source": [
    "### Question 6\n",
    "Given the DCM \n",
    "\\begin{equation*}\n",
    "[BN] = \n",
    "\\begin{bmatrix}\n",
    "0.925417    & 0.336824  & 0.173648 \\\\\n",
    "0.0296956   & −0.521281 & 0.852869 \\\\\n",
    "0.377786    & −0.784102 & −0.492404 \\\\\n",
    "\\end{bmatrix},\n",
    "\\end{equation*}\n",
    "what is the equivalent principal rotation parameter set?"
   ]
  },
  {
   "cell_type": "code",
   "execution_count": 3,
   "metadata": {},
   "outputs": [
    {
     "name": "stdout",
     "output_type": "stream",
     "text": [
      "Vector: [0.97555056 0.12165575 0.18303274]\n",
      "phi: -2.1461529124034975 radians\n"
     ]
    }
   ],
   "source": [
    "C = np.array([[0.925417,  0.0296956, 0.377786],\n",
    "              [0.336824, -0.521281, -0.784102],\n",
    "              [0.173648,  0.852869, -0.492404]])\n",
    "C = np.transpose(C)\n",
    "\n",
    "e, phi = fn.getPRVfromDCM(C)\n",
    "print(\"Vector: {}\\nphi: {} radians\".format(e, phi))"
   ]
  }
 ],
 "metadata": {
  "kernelspec": {
   "display_name": "base",
   "language": "python",
   "name": "python3"
  },
  "language_info": {
   "codemirror_mode": {
    "name": "ipython",
    "version": 3
   },
   "file_extension": ".py",
   "mimetype": "text/x-python",
   "name": "python",
   "nbconvert_exporter": "python",
   "pygments_lexer": "ipython3",
   "version": "3.11.9"
  }
 },
 "nbformat": 4,
 "nbformat_minor": 2
}
