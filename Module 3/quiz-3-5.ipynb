{
 "cells": [
  {
   "cell_type": "markdown",
   "metadata": {},
   "source": [
    "### Question 1\n",
    "Given $\\beta=(0.235702, 0.471405, −0.471405, 0.707107)$, what is the corresponding DCM?"
   ]
  },
  {
   "cell_type": "code",
   "execution_count": 308,
   "metadata": {},
   "outputs": [
    {
     "data": {
      "text/plain": [
       "array([-0.44444488, -0.11111228,  0.88888975, -0.11111228, -0.44444488,\n",
       "       -0.44444535,  0.88888975, -0.44444535,  0.11111039])"
      ]
     },
     "execution_count": 308,
     "metadata": {},
     "output_type": "execute_result"
    }
   ],
   "source": [
    "import sys\n",
    "sys.path.append('..')\n",
    "import functions as fn\n",
    "import numpy as np\n",
    "\n",
    "betas = [0.235702, 0.471405, -0.471405, 0.707107]\n",
    "fn.DCMfromQuaternion(betas).flatten()"
   ]
  },
  {
   "cell_type": "markdown",
   "metadata": {},
   "source": [
    "### Question 2\n",
    "If $\\beta_{B/N}=(\\beta_{0},\\beta_{1},\\beta_{2},\\beta_{3})$ is the attitude of $B$ relative to $N$ frame, what is the EP description of the inverse attitude of $N$ relative to $B$?"
   ]
  },
  {
   "cell_type": "markdown",
   "metadata": {},
   "source": [
    "### Question 3\n",
    "Write a program to map a DCM to the equivalent EP. Choose the EP output set that describes a short rotation. Using \n",
    "\\begin{equation*}\n",
    "[BN] = \n",
    "\\begin{bmatrix}\n",
    "​−0.529403 & ​−0.467056 & ​0.708231 \\\\\n",
    "−0.474115 & −0.529403 & −0.703525 \\\\\n",
    "0.703525 & −0.708231 & 0.0588291​ \\\\\n",
    "\\end{bmatrix}\n",
    "\\end{equation*}\n",
    "what is the corresponding EP set?"
   ]
  },
  {
   "cell_type": "code",
   "execution_count": null,
   "metadata": {},
   "outputs": [],
   "source": []
  },
  {
   "cell_type": "code",
   "execution_count": 589,
   "metadata": {},
   "outputs": [
    {
     "data": {
      "text/plain": [
       "{'beta_0': 0.0017647499999999955,\n",
       " 'beta_1': 0.352939,\n",
       " 'beta_2': -0.352939,\n",
       " 'beta_3': 0.5294087749999999}"
      ]
     },
     "metadata": {},
     "output_type": "display_data"
    }
   ],
   "source": [
    "import itertools\n",
    "import sympy as sm\n",
    "\n",
    "# Cmat = sm.MatrixSymbol('C', 3, 3)\n",
    "# C = sm.Matrix(Cmat)\n",
    "# display(C)\n",
    "\n",
    "# b0, b1, b2, b3 = sm.symbols('beta_0, beta_1, beta_2, beta_3')\n",
    "# b0_2 = sm.Rational(1,4)*(1+sm.trace(C))\n",
    "# b1_2 = sm.Rational(1,4)*(1+2*C[0,0]-sm.trace(C))\n",
    "# b2_2 = sm.Rational(1,4)*(1+2*C[1,1]-sm.trace(C))\n",
    "# b3_2 = sm.Rational(1,4)*(1+2*C[2,2]-sm.trace(C))\n",
    "# bs_max = [b0_2, b1_2, b2_2, b3_2]\n",
    "# # mi = np.argmax(bs_max)\n",
    "# mi = 1\n",
    "# bs_max = 9001\n",
    "# dict = {mi: bs_max}\n",
    "\n",
    "# bs = [b0, b1, b2, b3]\n",
    "# for idx, val in enumerate(itertools.combinations(bs, 2)):\n",
    "#     bi = bs.index(val[0])\n",
    "#     bj = bs.index(val[1])\n",
    "#     l = [bi,bj]\n",
    "#     if mi in l:\n",
    "#         beta=l[0] if l[0]!=mi else l[1]\n",
    "#         delta = np.abs(bi+bj-3)\n",
    "#         sign = np.sign(bi*bj-1)\n",
    "#         ci = 2-((delta+2) % 3)\n",
    "#         cj = 2-((delta+1) % 3)\n",
    "#         b_eqn = (C[ci,cj] + sign*C[cj,ci])/4\n",
    "#         dict[beta] = b_eqn\n",
    "\n",
    "# display(dict)\n",
    "\n",
    "\n",
    "\n",
    "C = np.array([[-0.529403, -0.467056, 0.708231],\n",
    "              [-0.474115, -0.529403, -0.703525],\n",
    "              [0.703525, -0.708231, 0.0588291]])\n",
    "'''\n",
    "Use Sheppard's method to compute the quaternion parameters from a DCM\n",
    "'''\n",
    "b0_2 = (1/4)*(1+np.trace(C))\n",
    "b1_2 = (1/4)*(1+2*C[0,0]-np.trace(C))\n",
    "b2_2 = (1/4)*(1+2*C[1,1]-np.trace(C))\n",
    "b3_2 = (1/4)*(1+2*C[2,2]-np.trace(C))\n",
    "b_max = [b0_2, b1_2, b2_2, b3_2]\n",
    "mi = np.argmax(b_max)\n",
    "dict = {'beta_{}'.format(mi): b_max[mi]}\n",
    "\n",
    "bs = [0,1,2,3]\n",
    "for idx, val in enumerate(itertools.combinations(bs, 2)):\n",
    "    bi = val[0]\n",
    "    bj = val[1]\n",
    "    l = [bi,bj]\n",
    "    if mi in l:\n",
    "        beta=l[0] if l[0]!=mi else l[1]\n",
    "        delta = np.abs(bi+bj-3)\n",
    "        sign = np.sign(bi*bj-1)\n",
    "        ci = 2-((delta+2) % 3)\n",
    "        cj = 2-((delta+1) % 3)\n",
    "        b_eqn = (C[ci,cj] + sign*C[cj,ci])/4\n",
    "        dict['beta_{}'.format(beta)] = b_eqn\n",
    "foo = {}\n",
    "for i in sorted(dict): foo[i]=dict[i]\n",
    "display(foo)\n"
   ]
  }
 ],
 "metadata": {
  "kernelspec": {
   "display_name": "base",
   "language": "python",
   "name": "python3"
  },
  "language_info": {
   "codemirror_mode": {
    "name": "ipython",
    "version": 3
   },
   "file_extension": ".py",
   "mimetype": "text/x-python",
   "name": "python",
   "nbconvert_exporter": "python",
   "pygments_lexer": "ipython3",
   "version": "3.11.9"
  }
 },
 "nbformat": 4,
 "nbformat_minor": 2
}
