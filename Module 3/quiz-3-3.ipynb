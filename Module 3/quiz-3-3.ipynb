{
 "cells": [
  {
   "cell_type": "code",
   "execution_count": 2,
   "metadata": {},
   "outputs": [],
   "source": [
    "import sys\n",
    "sys.path.append('..')\n",
    "import functions as fn\n",
    "import numpy as np"
   ]
  },
  {
   "cell_type": "markdown",
   "metadata": {},
   "source": [
    "### Question 2\n",
    "Given the (3-2-1) Euler angles (20,-10,120) degrees, what is the equivalent principal rotation parameters?"
   ]
  },
  {
   "cell_type": "code",
   "execution_count": 6,
   "metadata": {},
   "outputs": [
    {
     "name": "stdout",
     "output_type": "stream",
     "text": [
      "Vector: [0.98308475 0.07889999 0.16528509]\n",
      "phi: -0.03719234596110638 radians\n"
     ]
    }
   ],
   "source": [
    "angles = np.radians([20, -10, 120])\n",
    "e, phi = fn.getPRVfromEuler(angles, '321')\n",
    "print(\"Vector: {}\\nphi: {} radians\".format(e, phi))"
   ]
  },
  {
   "cell_type": "markdown",
   "metadata": {},
   "source": [
    "### Question 3\n",
    "Question 3\n",
    "\n",
    "Two orientations are related through\n",
    "\\begin{equation*}\n",
    "[FB] = [BN] = \n",
    "\\begin{bmatrix}\n",
    "1   &   0   & 0 \\\\\n",
    "0   &   0   & 1 \\\\\n",
    "0   &   -1  & 0 \\\\\n",
    "\\end{bmatrix}.\n",
    "\\end{equation*}\n",
    "Sum these orientation to find [FN] and express the answer using principal rotation parameters."
   ]
  },
  {
   "cell_type": "code",
   "execution_count": 8,
   "metadata": {},
   "outputs": [
    {
     "name": "stdout",
     "output_type": "stream",
     "text": [
      "Vector: [1. 0. 0.]\n",
      "phi: 3.141592653589793 radians\n"
     ]
    }
   ],
   "source": [
    "FB = BN = np.array([[1, 0, 0],\n",
    "                    [0, 0, 1],\n",
    "                    [0, -1, 0]])\n",
    "FN = np.matmul(FB,BN)\n",
    "e, phi = fn.getPRVfromDCM(FN)\n",
    "print(\"Vector: {}\\nphi: {} radians\".format(e, phi))"
   ]
  }
 ],
 "metadata": {
  "kernelspec": {
   "display_name": "base",
   "language": "python",
   "name": "python3"
  },
  "language_info": {
   "codemirror_mode": {
    "name": "ipython",
    "version": 3
   },
   "file_extension": ".py",
   "mimetype": "text/x-python",
   "name": "python",
   "nbconvert_exporter": "python",
   "pygments_lexer": "ipython3",
   "version": "3.11.9"
  }
 },
 "nbformat": 4,
 "nbformat_minor": 2
}
