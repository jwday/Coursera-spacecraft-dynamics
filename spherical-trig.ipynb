{
 "cells": [
  {
   "attachments": {
    "0H2fcrxlSyqDYjq2x5JV_Picture.jpg": {
     "image/jpeg": "[encoded data removed]"
    }
   },
   "cell_type": "markdown",
   "metadata": {},
   "source": [
    "Spherical trig can be used to combine rotations FROM SYMMETRICAL SETS.  \n",
    "The following are generalized functions for the spherical law of sines and cosines:\n",
    "\n",
    "![0H2fcrxlSyqDYjq2x5JV_Picture.jpg](attachment:0H2fcrxlSyqDYjq2x5JV_Picture.jpg)\n",
    "\n",
    "\n",
    "### Spherical Law of Sines\n",
    "$\\frac{\\sin{A}}{\\sin{a}}=\\frac{\\sin{B}}{\\sin{b}}=\\frac{\\sin{C}}{\\sin{c}}$ is generalized in the function `r = sphlos(x,y,z)` in the form $\\frac{\\sin{r}}{\\sin{x}}=\\frac{\\sin{y}}{\\sin{z}}$.  \n",
    "In other words, `sphlos(x,y,z)` returns the value r.  \n",
    "This is only generalizable in this form because of the symmetrical nature of the Spherical Law of Sines.\n",
    "\n",
    "\n",
    "### Spherical Law of Cosines to find angle\n",
    "$\\cos{A}=-\\cos{B}\\cos{C}+\\sin{B}\\sin{C}\\sin{a}$ is generalized in the function `r = sphloc_angle(x,y,z)` in the form:\n",
    "* $\\cos{r}=-\\cos{x}\\cos{y}+\\sin{x}\\sin{y}\\sin{z}$.\n",
    "\n",
    "\n",
    "### Spherical Law of Cosines to find side (arc) length\n",
    "Likewise, $\\cos{A}=-\\cos{B}\\cos{C}+\\sin{B}\\sin{C}\\sin{a}$ is generalized in the function `r = sphloc_arc(x,y,z)` in the form:\n",
    "\n",
    "* $\\cos{x}=-\\cos{y}\\cos{z}+\\sin{y}\\sin{z}\\sin{r}$."
   ]
  },
  {
   "cell_type": "code",
   "execution_count": 1,
   "metadata": {},
   "outputs": [],
   "source": [
    "import sympy as sm\n",
    "import numpy as np\n",
    "from numpy import sin, cos, tan, arcsin, arccos, arctan\n",
    "\n",
    "def sphlos(x, y, z):\n",
    "    '''\n",
    "    Useable for any general combination of either:\n",
    "        QTY 2 sides (arc lengths) and QTY 1 angle to find another angle, or...\n",
    "        QTY 1 side (arc length) and QTY 2 angles and to another side (arc length)\n",
    "        Just be consistent with which one is which\n",
    "        \n",
    "        ex. If you are seeking A, then input loc(a, B, b)\n",
    "        ex. If you are seeking a, then input loc(A, b, B)\n",
    "    '''\n",
    "    return arcsin(sin(x)*sin(y)/sin(z))\n",
    "\n",
    "def sphloc_angle(x, y, z):\n",
    "    return arccos(-cos(x)*cos(y) + sin(x)*sin(y)*cos(z))\n",
    "\n",
    "def sphloc_arc(x, y, z):\n",
    "    return arccos(cos(x) + cos(y)*cos(z)/(sin(y)*sin(z)))"
   ]
  },
  {
   "cell_type": "markdown",
   "metadata": {},
   "source": [
    "The following are generalized functions to calculate the relative angles between rotations (of symmetrical sets)"
   ]
  },
  {
   "cell_type": "code",
   "execution_count": null,
   "metadata": {},
   "outputs": [],
   "source": [
    "def addRots(R1,R2):\n",
    "    '''\n",
    "    Add two consecutive symmetric R=(X-Y-X) rotations into one single (X-Y-X) rotation\n",
    "    First rotation is R1 = (a,b,c)\n",
    "    Second rotation is R2 = (d,e,f)\n",
    "    '''\n",
    "    a, b, c = R1[0], R1[1], R1[2]\n",
    "    d, e, f = R2[0], R2[1], R2[2]\n",
    "    psi2 = arccos(cos(b)*cos(e)-sin(b)*sin(e)*cos*(c+d))\n",
    "    psi1 = a + arctan(sin(b)*sin(e)*sin(c+d)/(cos(e)-cos(b)*cos(psi2)))\n",
    "    psi3 = f + arctan(sin(b)*sin(e)*sin(c+d)/(cos(b)-cos(e)*cos(psi2)))\n",
    "    RF = (psi1, psi2, psi3)\n",
    "    return RF\n",
    "\n",
    "def subRots(R1,RF):\n",
    "    '''\n",
    "    Subtract one of two consecutive symmetric (X-Y-X) rotations from one single (X-Y-X) rotation\n",
    "    First rotation is R1 = (a,b,c)\n",
    "    Equivalent final rotation is RF = (d,e,f)\n",
    "    '''\n",
    "    a, b, c = R1[0], R1[1], R1[2]\n",
    "    d, e, f = RF[0], RF[1], RF[2]\n",
    "    phi2 = arccos(cos(b)*cos(e)+sin(b)*sin(e)*cos*(d-a))\n",
    "    phi1 = -c + arctan(sin(b)*sin(e)*sin(d-a)/(cos(b)*cos(phi2)-cos(e)))\n",
    "    phi3 = f - arctan(sin(b)*sin(e)*sin(d-a)/(cos(b)-cos(phi2)*cos(e)))\n",
    "    R2 = (phi1, phi2, phi3)\n",
    "    return R2"
   ]
  }
 ],
 "metadata": {
  "kernelspec": {
   "display_name": "base",
   "language": "python",
   "name": "python3"
  },
  "language_info": {
   "codemirror_mode": {
    "name": "ipython",
    "version": 3
   },
   "file_extension": ".py",
   "mimetype": "text/x-python",
   "name": "python",
   "nbconvert_exporter": "python",
   "pygments_lexer": "ipython3",
   "version": "3.11.9"
  }
 },
 "nbformat": 4,
 "nbformat_minor": 2
}
