{
 "cells": [
  {
   "cell_type": "markdown",
   "metadata": {},
   "source": [
    "### Principle Rotation Vectors and DCMs\n",
    "Finding the Principle Rotation Vector (PRV) between two arbitrary coordinate frames can be done in one of two ways:\n",
    "1. Finding the unit Eigenvalue/Eigenvector of the DCM, or...\n",
    "2. Directly using some arithmetic formulas (derived from the eigenvector formulation)"
   ]
  },
  {
   "cell_type": "code",
   "execution_count": 282,
   "metadata": {},
   "outputs": [],
   "source": [
    "import numpy as np\n",
    "import sympy as sm\n",
    "from sympy.physics.mechanics import *\n",
    "\n",
    "def getPRVfromDCM(C):\n",
    "    foo = (1/2)*(np.trace(C) - 1)\n",
    "    # foo = 1 corresponds to a 0 deg rotation about any of the three principle axes\n",
    "    # foo = 0 corresponds to either a 90 or -90 deg rotation about any of the three principle axes\n",
    "    # foo = -1 corresponds to either a 180 or -180 deg rotation about any of the three principle axes\n",
    "    u   = np.array([C[1,2]-C[2,1],\n",
    "                    C[2,0]-C[0,2],\n",
    "                    C[0,1]-C[1,0]])\n",
    "    with np.errstate(all='raise'):\n",
    "        try:\n",
    "            n = abs(u/np.linalg.norm(u))\n",
    "        except:\n",
    "            eigs = np.linalg.eig(C)\n",
    "            unique, counts = np.unique(eigs.eigenvalues, return_counts=True)\n",
    "            d = dict(zip(unique,counts))\n",
    "            if 1.0 in d and d[1.0] == 1:\n",
    "                idx = np.where(eigs.eigenvalues == 1.0)[0][0]\n",
    "                n = eigs.eigenvectors[idx]\n",
    "            else:\n",
    "                raise ValueError(\"Error: The QTY of eigenvectors with eigenvalues equal to unity is not exactly 1. Is your rotation matrix Identity or not right-handed?\")\n",
    "            \n",
    "    Kn = np.array([[0, -n[2], n[1]],\n",
    "                   [n[2], 0, -n[0]],\n",
    "                   [-n[1], n[0], 0]])\n",
    "    \n",
    "    phis = np.arcsin(-np.trace(np.matmul(Kn,C))/2)\n",
    "    phic = np.arccos(foo)\n",
    "    \n",
    "    if phis >= 0:\n",
    "        phi = phic\n",
    "    else:\n",
    "        phi = -phic\n",
    "\n",
    "    e = n\n",
    "    return phi,e\n",
    "\n",
    "def getPRVfromEuler(a, b, c, rotOrder):\n",
    "    psi, theta, phi = sm.symbols('psi, theta, phi')\n",
    "    N = ReferenceFrame('N', indices=('1', '2', '3'))\n",
    "    B = ReferenceFrame('B', indices=('1', '2', '3'))\n",
    "    B.orient_body_fixed(N, (psi, theta, phi), rotOrder)\n",
    "    C = B.dcm(N).subs({psi: np.radians(a),\n",
    "                       theta: np.radians(b),\n",
    "                       phi: np.radians(c)})\n",
    "    return getPRVfromDCM(np.array(C).astype(np.float64))\n"
   ]
  },
  {
   "cell_type": "code",
   "execution_count": 287,
   "metadata": {},
   "outputs": [
    {
     "data": {
      "text/plain": [
       "(-2.1461529124034975, array([0.97555042, 0.12165693, 0.18303271]))"
      ]
     },
     "metadata": {},
     "output_type": "display_data"
    },
    {
     "data": {
      "text/plain": [
       "(-2.1461528375981986, array([0.97555054, 0.12165573, 0.18303284]))"
      ]
     },
     "metadata": {},
     "output_type": "display_data"
    },
    {
     "data": {
      "text/plain": [
       "(3.141592653589793, array([1., 0., 0.]))"
      ]
     },
     "metadata": {},
     "output_type": "display_data"
    }
   ],
   "source": [
    "C = np.array([[0.925417,  0.0296956, 0.377788],\n",
    "              [0.336824, -0.521281, -0.784102],\n",
    "              [0.173648,  0.852869, -0.492404]])\n",
    "display(getPRVfromDCM(C.transpose()))\n",
    "display(getPRVfromEuler(20,-10,120,'321'))\n",
    "\n",
    "FB = BN = np.array([[1, 0, 0],\n",
    "                    [0, 0, 1],\n",
    "                    [0, -1, 0]])\n",
    "FN = np.matmul(FB,BN)\n",
    "display(getPRVfromDCM(FN))"
   ]
  },
  {
   "cell_type": "code",
   "execution_count": 288,
   "metadata": {},
   "outputs": [
    {
     "data": {
      "text/plain": [
       "0.0"
      ]
     },
     "metadata": {},
     "output_type": "display_data"
    },
    {
     "data": {
      "text/plain": [
       "(-1.5707963267948966, array([1., 0., 0.]))"
      ]
     },
     "execution_count": 288,
     "metadata": {},
     "output_type": "execute_result"
    }
   ],
   "source": [
    "foo = np.array([[1, 0, 0],\n",
    "                [0, 0, 1],\n",
    "                [0, -1, 0]])\n",
    "display((1/2)*(foo[0,0] + foo[1,1] + foo[2,2] - 1))\n",
    "getPRVfromDCM(foo)"
   ]
  },
  {
   "cell_type": "markdown",
   "metadata": {},
   "source": [
    "### PRV Addition\n",
    "PRVs can be added much like DCMs:\n",
    "1. The DCM method which is $FN(\\Phi, \\hat{e})=[FB(\\Phi_2, \\hat{e_2})][BN(\\Phi_1, \\hat{e_1})]$\n",
    "2. The direct addition method which is arithmetic (but potentially singular)"
   ]
  },
  {
   "cell_type": "code",
   "execution_count": null,
   "metadata": {},
   "outputs": [],
   "source": [
    "def addPRVs(phi1,e1,phi2,e2):\n",
    "    sp1 = np.sin(phi1/2)\n",
    "    sp2 = np.sin(phi2/2)\n",
    "    cp1 = np.cos(phi1/2)\n",
    "    cp2 = np.cos(phi2/2)\n",
    "    phi = 2*np.arccos(cp1*cp2 - sp1*sp2*np.dot(e1,e2))\n",
    "    e   = (cp2*sp1*e1 + cp1*sp2*e2 + sp1*sp2*np.cross(e1,e2))/np.sin(phi/2)\n",
    "    return phi,e\n",
    "\n",
    "def subPRVs(phi,e,phi1,e1):\n",
    "    sp1  = np.sin(phi1/2)\n",
    "    sp   = np.sin(phi/2)\n",
    "    cp1  = np.cos(phi1/2)\n",
    "    cp   = np.cos(phi/2)\n",
    "    phi2 = 2*np.arccos(cp*cp1 + sp*sp1*np.dot(e,e1))\n",
    "    e2   = (cp1*sp*e - cp*sp1*e1 + sp*sp1*np.cross(e,e1))/np.sin(phi2/2)\n",
    "    return phi2,e2\n",
    "\n",
    "# def getPRVfromBody(w):\n",
    "#     np.identity(3) + (1/2)*"
   ]
  }
 ],
 "metadata": {
  "kernelspec": {
   "display_name": "base",
   "language": "python",
   "name": "python3"
  },
  "language_info": {
   "codemirror_mode": {
    "name": "ipython",
    "version": 3
   },
   "file_extension": ".py",
   "mimetype": "text/x-python",
   "name": "python",
   "nbconvert_exporter": "python",
   "pygments_lexer": "ipython3",
   "version": "3.11.9"
  }
 },
 "nbformat": 4,
 "nbformat_minor": 2
}
