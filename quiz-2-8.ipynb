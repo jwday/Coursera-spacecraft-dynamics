{
 "cells": [
  {
   "cell_type": "code",
   "execution_count": 2,
   "metadata": {},
   "outputs": [],
   "source": [
    "import sympy as sm\n",
    "import numpy as np\n",
    "from sympy.physics.vector import *"
   ]
  },
  {
   "cell_type": "markdown",
   "metadata": {},
   "source": [
    "#### Question 1 (CORRECT):\n",
    "Given the (3-2-1) Euler angle set (10, 20, 30) degrees, find the equivalent (3-1-3) Euler angles."
   ]
  },
  {
   "cell_type": "code",
   "execution_count": 8,
   "metadata": {},
   "outputs": [
    {
     "data": {
      "text/plain": [
       "'BN (3-1-3):'"
      ]
     },
     "metadata": {},
     "output_type": "display_data"
    },
    {
     "data": {
      "text/latex": [
       "$\\displaystyle \\left[\\begin{matrix}- \\sin{\\left(\\Omega \\right)} \\sin{\\left(\\omega \\right)} \\cos{\\left(i \\right)} + \\cos{\\left(\\Omega \\right)} \\cos{\\left(\\omega \\right)} & \\sin{\\left(\\Omega \\right)} \\cos{\\left(\\omega \\right)} + \\sin{\\left(\\omega \\right)} \\cos{\\left(\\Omega \\right)} \\cos{\\left(i \\right)} & \\sin{\\left(i \\right)} \\sin{\\left(\\omega \\right)}\\\\- \\sin{\\left(\\Omega \\right)} \\cos{\\left(i \\right)} \\cos{\\left(\\omega \\right)} - \\sin{\\left(\\omega \\right)} \\cos{\\left(\\Omega \\right)} & - \\sin{\\left(\\Omega \\right)} \\sin{\\left(\\omega \\right)} + \\cos{\\left(\\Omega \\right)} \\cos{\\left(i \\right)} \\cos{\\left(\\omega \\right)} & \\sin{\\left(i \\right)} \\cos{\\left(\\omega \\right)}\\\\\\sin{\\left(\\Omega \\right)} \\sin{\\left(i \\right)} & - \\sin{\\left(i \\right)} \\cos{\\left(\\Omega \\right)} & \\cos{\\left(i \\right)}\\end{matrix}\\right]$"
      ],
      "text/plain": [
       "Matrix([\n",
       "[-sin(Omega)*sin(omega)*cos(i) + cos(Omega)*cos(omega),  sin(Omega)*cos(omega) + sin(omega)*cos(Omega)*cos(i), sin(i)*sin(omega)],\n",
       "[-sin(Omega)*cos(i)*cos(omega) - sin(omega)*cos(Omega), -sin(Omega)*sin(omega) + cos(Omega)*cos(i)*cos(omega), sin(i)*cos(omega)],\n",
       "[                                    sin(Omega)*sin(i),                                    -sin(i)*cos(Omega),            cos(i)]])"
      ]
     },
     "metadata": {},
     "output_type": "display_data"
    },
    {
     "name": "stdout",
     "output_type": "stream",
     "text": [
      "Om, i, w (3-1-3): [40.64234204795598, 35.531347762804174, -36.05238873238791]\n"
     ]
    }
   ],
   "source": [
    "t1, t2, t3 = sm.symbols('theta_1, theta_2, theta_3') # Rotation angles for (3-2-1) set\n",
    "om, i, w = sm.symbols('Omega, i, omega') # Rotation angles for (3-1-3) set\n",
    "\n",
    "N = ReferenceFrame('N')\n",
    "B = ReferenceFrame('B')\n",
    "Bp = ReferenceFrame('Bp')  # 'Dummy' B frame used to examine 3-1-3 DMC and extract inverse transformation formulas\n",
    "\n",
    "B.orient_body_fixed(N, (t1, t2, t3), '321')\n",
    "Bp.orient_body_fixed(N, (om, i, w), '313')\n",
    "\n",
    "C = B.dcm(N)\n",
    "Cp = Bp.dcm(N)\n",
    "display('BN (3-1-3):', Cp)\n",
    "\n",
    "# Inverse transform formulas for a (3-1-3) rotation, derived via inspection of Cp\n",
    "tom = sm.atan(C[2,0]/-C[2,1])\n",
    "ti = sm.acos(C[2,2])\n",
    "tw = sm.atan(C[0,2]/C[1,2])\n",
    "\n",
    "vals = {t1: np.radians(10),\n",
    "        t2: np.radians(20),\n",
    "        t3: np.radians(30)}\n",
    "\n",
    "print('Om, i, w (3-1-3): {}'.format([np.rad2deg(float(tom.subs(vals))),\n",
    "                                     np.rad2deg(float(ti.subs(vals))),\n",
    "                                     np.rad2deg(float(tw.subs(vals)))]))\n",
    "\n",
    "# Clear cache for next problem\n",
    "N = None\n",
    "B = None\n",
    "del t1, t2, t3, om, i, w, Bp, C, Cp, tom, ti, tw, vals"
   ]
  },
  {
   "cell_type": "markdown",
   "metadata": {},
   "source": [
    "#### Question 2 (CORRECT):\n",
    "All the following Euler angle sets are 3-2-1 Euler angles.  \n",
    "The $\\mathscr{B}$ frame relative to $\\mathscr{N}$ is given through the 3-2-1 EAs (10, 20, 30) degrees, while $\\mathscr{R}$ relative to $\\mathscr{N}$ is given by the EAs (-5, 5, 5) degrees.  \n",
    "What is the attitude of $\\mathscr{B}$ relative to $\\mathscr{R}$ in terms of the 3-2-1 EAs."
   ]
  },
  {
   "cell_type": "code",
   "execution_count": 23,
   "metadata": {},
   "outputs": [
    {
     "data": {
      "text/latex": [
       "$\\displaystyle \\left[\\begin{matrix}\\cos{\\left(\\theta_{1} \\right)} \\cos{\\left(\\theta_{2} \\right)} & \\sin{\\left(\\theta_{1} \\right)} \\cos{\\left(\\theta_{2} \\right)} & - \\sin{\\left(\\theta_{2} \\right)}\\\\- \\sin{\\left(\\theta_{1} \\right)} \\cos{\\left(\\theta_{3} \\right)} + \\sin{\\left(\\theta_{2} \\right)} \\sin{\\left(\\theta_{3} \\right)} \\cos{\\left(\\theta_{1} \\right)} & \\sin{\\left(\\theta_{1} \\right)} \\sin{\\left(\\theta_{2} \\right)} \\sin{\\left(\\theta_{3} \\right)} + \\cos{\\left(\\theta_{1} \\right)} \\cos{\\left(\\theta_{3} \\right)} & \\sin{\\left(\\theta_{3} \\right)} \\cos{\\left(\\theta_{2} \\right)}\\\\\\sin{\\left(\\theta_{1} \\right)} \\sin{\\left(\\theta_{3} \\right)} + \\sin{\\left(\\theta_{2} \\right)} \\cos{\\left(\\theta_{1} \\right)} \\cos{\\left(\\theta_{3} \\right)} & \\sin{\\left(\\theta_{1} \\right)} \\sin{\\left(\\theta_{2} \\right)} \\cos{\\left(\\theta_{3} \\right)} - \\sin{\\left(\\theta_{3} \\right)} \\cos{\\left(\\theta_{1} \\right)} & \\cos{\\left(\\theta_{2} \\right)} \\cos{\\left(\\theta_{3} \\right)}\\end{matrix}\\right]$"
      ],
      "text/plain": [
       "Matrix([\n",
       "[                                          cos(theta_1)*cos(theta_2),                                          sin(theta_1)*cos(theta_2),             -sin(theta_2)],\n",
       "[-sin(theta_1)*cos(theta_3) + sin(theta_2)*sin(theta_3)*cos(theta_1), sin(theta_1)*sin(theta_2)*sin(theta_3) + cos(theta_1)*cos(theta_3), sin(theta_3)*cos(theta_2)],\n",
       "[ sin(theta_1)*sin(theta_3) + sin(theta_2)*cos(theta_1)*cos(theta_3), sin(theta_1)*sin(theta_2)*cos(theta_3) - sin(theta_3)*cos(theta_1), cos(theta_2)*cos(theta_3)]])"
      ]
     },
     "metadata": {},
     "output_type": "display_data"
    },
    {
     "data": {
      "text/latex": [
       "$\\displaystyle \\left[\\begin{matrix}0.934028419605116 & 0.219484069717643 & -0.281811381086981\\\\-0.0996862636935905 & 0.917771449011301 & 0.384393309268657\\\\0.343006647458592 & -0.330941551516093 & 0.879104162929137\\end{matrix}\\right]$"
      ],
      "text/plain": [
       "Matrix([\n",
       "[  0.934028419605116,  0.219484069717643, -0.281811381086981],\n",
       "[-0.0996862636935905,  0.917771449011301,  0.384393309268657],\n",
       "[  0.343006647458592, -0.330941551516093,  0.879104162929137]])"
      ]
     },
     "metadata": {},
     "output_type": "display_data"
    },
    {
     "name": "stdout",
     "output_type": "stream",
     "text": [
      "a1, a2, a3 (3-2-1): [13.223818206320509, 16.36834338202526, 23.6176282453318]\n"
     ]
    }
   ],
   "source": [
    "t1, t2, t3 = sm.symbols('theta_1, theta_2, theta_3') # Rotation angles for BN\n",
    "g1, g2, g3 = sm.symbols('gamma_1, gamma_2, gamma_3') # Rotation angles for RN\n",
    "\n",
    "N = ReferenceFrame('N')\n",
    "B = ReferenceFrame('B')\n",
    "R = ReferenceFrame('R')\n",
    "\n",
    "B.orient_body_fixed(N, (t1, t2, t3), '321')\n",
    "R.orient_body_fixed(N, (g1, g2, g3), '321')\n",
    "\n",
    "BN = B.dcm(N)\n",
    "RN = R.dcm(N)\n",
    "BR = B.dcm(R)\n",
    "\n",
    "display(BN)\n",
    "\n",
    "vals = {t1: np.radians(10),\n",
    "        t2: np.radians(20),\n",
    "        t3: np.radians(30),\n",
    "        g1: np.radians(-5),\n",
    "        g2: np.radians(5),\n",
    "        g3: np.radians(5)}\n",
    "\n",
    "display(BR.subs(vals))\n",
    "\n",
    "# Inverse transform formulas for a (3-2-1) rotation, derived by inspection\n",
    "a1 = sm.atan(BR[0,1]/BR[0,0])\n",
    "a2 = sm.asin(-BR[0,2])\n",
    "a3 = sm.atan(BR[1,2]/BR[2,2])\n",
    "\n",
    "print('a1, a2, a3 (3-2-1): {}'.format([np.rad2deg(float(a1.subs(vals))),\n",
    "                                     np.rad2deg(float(a2.subs(vals))),\n",
    "                                     np.rad2deg(float(a3.subs(vals)))]))"
   ]
  }
 ],
 "metadata": {
  "kernelspec": {
   "display_name": "base",
   "language": "python",
   "name": "python3"
  },
  "language_info": {
   "codemirror_mode": {
    "name": "ipython",
    "version": 3
   },
   "file_extension": ".py",
   "mimetype": "text/x-python",
   "name": "python",
   "nbconvert_exporter": "python",
   "pygments_lexer": "ipython3",
   "version": "3.11.9"
  }
 },
 "nbformat": 4,
 "nbformat_minor": 2
}
